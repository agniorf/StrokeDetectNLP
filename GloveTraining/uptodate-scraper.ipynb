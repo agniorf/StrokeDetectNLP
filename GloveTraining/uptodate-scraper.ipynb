{
 "cells": [
  {
   "cell_type": "code",
   "execution_count": 2,
   "metadata": {},
   "outputs": [],
   "source": [
    "import os\n",
    "from selenium import webdriver  \n",
    "import time\n",
    "from bs4 import BeautifulSoup"
   ]
  },
  {
   "cell_type": "code",
   "execution_count": 120,
   "metadata": {},
   "outputs": [],
   "source": [
    "def recursive_scrape(name, url):\n",
    "    browser.get(url)\n",
    "    time.sleep(1)  \n",
    "    soup = BeautifulSoup(browser.page_source, 'lxml')\n",
    "    content = soup.find(\"div\", {\"id\":\"outlineContent\"})\n",
    "    # If there is a delay/issue with page load\n",
    "    if (content == None and soup.find(\"div\", {\"id\":\"toc-list\"}) == None):\n",
    "        time.sleep(1)\n",
    "        browser.get(url)\n",
    "        time.sleep(1)  \n",
    "        soup = BeautifulSoup(browser.page_source, 'lxml')\n",
    "        content = soup.find(\"div\", {\"id\":\"topicText\"})\n",
    "        \n",
    "    if content:\n",
    "        if '/' in name:\n",
    "            clean_name = name.replace('/', '-')\n",
    "            filename = \"Neurology/\" + clean_name + \".txt\"\n",
    "        else:\n",
    "            filename = \"Neurology/\" + name + \".txt\"\n",
    "        print(\"Writing \" + filename)\n",
    "        text = soup.find(\"div\", {\"id\":\"topicText\"})\n",
    "        output = text.get_text(separator=\" \", strip=True)\n",
    "        with open(os.path.expanduser(filepath + filename),\"w\") as f:\n",
    "            f.write(output) # write to file\n",
    "        url_dict[name] = url\n",
    "        return\n",
    "    else:\n",
    "        toc = soup.find(\"div\", {\"id\": \"toc-list\"})\n",
    "        if toc:\n",
    "            links = toc.find_all(\"a\")\n",
    "            for item in links:\n",
    "                if item.contents[0] not in url_dict: \n",
    "                    next_url = 'https://www.uptodate.com' + item.get('href')\n",
    "                    print(\"Visiting \" + item.contents[0] + \"...\")\n",
    "                    recursive_scrape(item.contents[0], next_url)"
   ]
  },
  {
   "cell_type": "code",
   "execution_count": 145,
   "metadata": {},
   "outputs": [],
   "source": [
    "# Open browser and login to UpToDate\n",
    "browser = webdriver.Chrome()\n",
    "url = 'http://www.uptodate.com/login'\n",
    "browser.get(url)  \n",
    "time.sleep(1)  \n",
    "username = browser.find_element_by_id(\"userName\")\n",
    "password = browser.find_element_by_id(\"password\")\n",
    "username.send_keys(\"dbertsim\")\n",
    "password.send_keys(\"502994@Muckley\")\n",
    "browser.find_element_by_id(\"btnLoginSubmit\").click()\n",
    "\n",
    "filepath = \"~/Dropbox (Partners Healthcare)/MVP/RPDR/Glove/Training Radiology and Stroke Resources/UpToDate/\""
   ]
  },
  {
   "cell_type": "code",
   "execution_count": 146,
   "metadata": {},
   "outputs": [
    {
     "name": "stdout",
     "output_type": "stream",
     "text": [
      "Visiting Behavioral and cognitive neurology...\n",
      "Visiting Cerebrovascular disease...\n",
      "Visiting CNS infections...\n",
      "Visiting Critical care neurology...\n",
      "Visiting Demyelinating diseases...\n",
      "Visiting Epilepsy and EEG...\n",
      "Visiting Headache...\n",
      "Visiting Medical neurology...\n",
      "Visiting Movement disorders...\n",
      "Visiting Neurodegenerative disease...\n",
      "Visiting Neurologic systems and symptoms...\n",
      "Visiting Neuromuscular disease...\n",
      "Visiting Neurooncology...\n",
      "Visiting Neuroophthalmology...\n",
      "Visiting Neuropathies...\n",
      "Visiting Primary care psychiatry...\n",
      "Visiting Society guidelines in Neurology...\n",
      "Visiting Spinal disease and back pain...\n",
      "Visiting Clinical manifestations of axial spondyloarthritis (ankylosing spondylitis and nonradiographic axial spondyloarthritis) in adults...\n",
      "Writing Neurology/Clinical manifestations of axial spondyloarthritis (ankylosing spondylitis and nonradiographic axial spondyloarthritis) in adults.txt\n",
      "Visiting Evaluation of low back pain in adults...\n",
      "Writing Neurology/Evaluation of low back pain in adults.txt\n",
      "Visiting Exercise-based therapy for low back pain...\n",
      "Writing Neurology/Exercise-based therapy for low back pain.txt\n",
      "Visiting Lumbar spinal stenosis: Pathophysiology, clinical features, and diagnosis...\n",
      "Writing Neurology/Lumbar spinal stenosis: Pathophysiology, clinical features, and diagnosis.txt\n",
      "Visiting Lumbar spinal stenosis: Treatment and prognosis...\n",
      "Writing Neurology/Lumbar spinal stenosis: Treatment and prognosis.txt\n",
      "Visiting Occupational low back pain: Evaluation and management...\n",
      "Writing Neurology/Occupational low back pain: Evaluation and management.txt\n",
      "Visiting Osteoporotic thoracolumbar vertebral compression fractures: Clinical manifestations and treatment...\n",
      "Writing Neurology/Osteoporotic thoracolumbar vertebral compression fractures: Clinical manifestations and treatment.txt\n",
      "Visiting Spinal manipulation in the treatment of musculoskeletal pain...\n",
      "Writing Neurology/Spinal manipulation in the treatment of musculoskeletal pain.txt\n",
      "Visiting Subacute and chronic low back pain: Nonpharmacologic and pharmacologic treatment...\n",
      "Writing Neurology/Subacute and chronic low back pain: Nonpharmacologic and pharmacologic treatment.txt\n",
      "Visiting Subacute and chronic low back pain: Nonsurgical interventional treatment...\n",
      "Writing Neurology/Subacute and chronic low back pain: Nonsurgical interventional treatment.txt\n",
      "Visiting Subacute and chronic low back pain: Surgical treatment...\n",
      "Writing Neurology/Subacute and chronic low back pain: Surgical treatment.txt\n",
      "Visiting Treatment of acute low back pain...\n",
      "Writing Neurology/Treatment of acute low back pain.txt\n",
      "Visiting Evaluation of the patient with neck pain and cervical spine disorders...\n",
      "Writing Neurology/Evaluation of the patient with neck pain and cervical spine disorders.txt\n",
      "Visiting Treatment of neck pain...\n",
      "Writing Neurology/Treatment of neck pain.txt\n",
      "Visiting Closed spinal dysraphism: Clinical manifestations, diagnosis, and management...\n",
      "Writing Neurology/Closed spinal dysraphism: Clinical manifestations, diagnosis, and management.txt\n",
      "Visiting Coccydynia (coccygodynia)...\n",
      "Writing Neurology/Coccydynia (coccygodynia).txt\n",
      "Visiting What's new in neurology...\n",
      "Writing Neurology/What's new in neurology.txt\n",
      "Visiting Patient Education...\n",
      "Visiting Allergies and asthma...\n",
      "Visiting Allergic bronchopulmonary aspergillosis (The Basics)...\n",
      "Writing Neurology/Allergic bronchopulmonary aspergillosis (The Basics).txt\n"
     ]
    },
    {
     "ename": "TypeError",
     "evalue": "must be str, not Tag",
     "output_type": "error",
     "traceback": [
      "\u001b[0;31m---------------------------------------------------------------------------\u001b[0m",
      "\u001b[0;31mTypeError\u001b[0m                                 Traceback (most recent call last)",
      "\u001b[0;32m<ipython-input-146-8976115e428a>\u001b[0m in \u001b[0;36m<module>\u001b[0;34m()\u001b[0m\n\u001b[1;32m      1\u001b[0m \u001b[0;31m# url_dict = {}\u001b[0m\u001b[0;34m\u001b[0m\u001b[0;34m\u001b[0m\u001b[0m\n\u001b[1;32m      2\u001b[0m recursive_scrape('Headache',\n\u001b[0;32m----> 3\u001b[0;31m                  'https://www.uptodate.com/contents/table-of-contents/neurology/')\n\u001b[0m",
      "\u001b[0;32m<ipython-input-120-9923c9911624>\u001b[0m in \u001b[0;36mrecursive_scrape\u001b[0;34m(name, url)\u001b[0m\n\u001b[1;32m     33\u001b[0m                     \u001b[0mnext_url\u001b[0m \u001b[0;34m=\u001b[0m \u001b[0;34m'https://www.uptodate.com'\u001b[0m \u001b[0;34m+\u001b[0m \u001b[0mitem\u001b[0m\u001b[0;34m.\u001b[0m\u001b[0mget\u001b[0m\u001b[0;34m(\u001b[0m\u001b[0;34m'href'\u001b[0m\u001b[0;34m)\u001b[0m\u001b[0;34m\u001b[0m\u001b[0m\n\u001b[1;32m     34\u001b[0m                     \u001b[0mprint\u001b[0m\u001b[0;34m(\u001b[0m\u001b[0;34m\"Visiting \"\u001b[0m \u001b[0;34m+\u001b[0m \u001b[0mitem\u001b[0m\u001b[0;34m.\u001b[0m\u001b[0mcontents\u001b[0m\u001b[0;34m[\u001b[0m\u001b[0;36m0\u001b[0m\u001b[0;34m]\u001b[0m \u001b[0;34m+\u001b[0m \u001b[0;34m\"...\"\u001b[0m\u001b[0;34m)\u001b[0m\u001b[0;34m\u001b[0m\u001b[0m\n\u001b[0;32m---> 35\u001b[0;31m                     \u001b[0mrecursive_scrape\u001b[0m\u001b[0;34m(\u001b[0m\u001b[0mitem\u001b[0m\u001b[0;34m.\u001b[0m\u001b[0mcontents\u001b[0m\u001b[0;34m[\u001b[0m\u001b[0;36m0\u001b[0m\u001b[0;34m]\u001b[0m\u001b[0;34m,\u001b[0m \u001b[0mnext_url\u001b[0m\u001b[0;34m)\u001b[0m\u001b[0;34m\u001b[0m\u001b[0m\n\u001b[0m",
      "\u001b[0;32m<ipython-input-120-9923c9911624>\u001b[0m in \u001b[0;36mrecursive_scrape\u001b[0;34m(name, url)\u001b[0m\n\u001b[1;32m     33\u001b[0m                     \u001b[0mnext_url\u001b[0m \u001b[0;34m=\u001b[0m \u001b[0;34m'https://www.uptodate.com'\u001b[0m \u001b[0;34m+\u001b[0m \u001b[0mitem\u001b[0m\u001b[0;34m.\u001b[0m\u001b[0mget\u001b[0m\u001b[0;34m(\u001b[0m\u001b[0;34m'href'\u001b[0m\u001b[0;34m)\u001b[0m\u001b[0;34m\u001b[0m\u001b[0m\n\u001b[1;32m     34\u001b[0m                     \u001b[0mprint\u001b[0m\u001b[0;34m(\u001b[0m\u001b[0;34m\"Visiting \"\u001b[0m \u001b[0;34m+\u001b[0m \u001b[0mitem\u001b[0m\u001b[0;34m.\u001b[0m\u001b[0mcontents\u001b[0m\u001b[0;34m[\u001b[0m\u001b[0;36m0\u001b[0m\u001b[0;34m]\u001b[0m \u001b[0;34m+\u001b[0m \u001b[0;34m\"...\"\u001b[0m\u001b[0;34m)\u001b[0m\u001b[0;34m\u001b[0m\u001b[0m\n\u001b[0;32m---> 35\u001b[0;31m                     \u001b[0mrecursive_scrape\u001b[0m\u001b[0;34m(\u001b[0m\u001b[0mitem\u001b[0m\u001b[0;34m.\u001b[0m\u001b[0mcontents\u001b[0m\u001b[0;34m[\u001b[0m\u001b[0;36m0\u001b[0m\u001b[0;34m]\u001b[0m\u001b[0;34m,\u001b[0m \u001b[0mnext_url\u001b[0m\u001b[0;34m)\u001b[0m\u001b[0;34m\u001b[0m\u001b[0m\n\u001b[0m",
      "\u001b[0;32m<ipython-input-120-9923c9911624>\u001b[0m in \u001b[0;36mrecursive_scrape\u001b[0;34m(name, url)\u001b[0m\n\u001b[1;32m     32\u001b[0m                 \u001b[0;32mif\u001b[0m \u001b[0mitem\u001b[0m\u001b[0;34m.\u001b[0m\u001b[0mcontents\u001b[0m\u001b[0;34m[\u001b[0m\u001b[0;36m0\u001b[0m\u001b[0;34m]\u001b[0m \u001b[0;32mnot\u001b[0m \u001b[0;32min\u001b[0m \u001b[0murl_dict\u001b[0m\u001b[0;34m:\u001b[0m\u001b[0;34m\u001b[0m\u001b[0m\n\u001b[1;32m     33\u001b[0m                     \u001b[0mnext_url\u001b[0m \u001b[0;34m=\u001b[0m \u001b[0;34m'https://www.uptodate.com'\u001b[0m \u001b[0;34m+\u001b[0m \u001b[0mitem\u001b[0m\u001b[0;34m.\u001b[0m\u001b[0mget\u001b[0m\u001b[0;34m(\u001b[0m\u001b[0;34m'href'\u001b[0m\u001b[0;34m)\u001b[0m\u001b[0;34m\u001b[0m\u001b[0m\n\u001b[0;32m---> 34\u001b[0;31m                     \u001b[0mprint\u001b[0m\u001b[0;34m(\u001b[0m\u001b[0;34m\"Visiting \"\u001b[0m \u001b[0;34m+\u001b[0m \u001b[0mitem\u001b[0m\u001b[0;34m.\u001b[0m\u001b[0mcontents\u001b[0m\u001b[0;34m[\u001b[0m\u001b[0;36m0\u001b[0m\u001b[0;34m]\u001b[0m \u001b[0;34m+\u001b[0m \u001b[0;34m\"...\"\u001b[0m\u001b[0;34m)\u001b[0m\u001b[0;34m\u001b[0m\u001b[0m\n\u001b[0m\u001b[1;32m     35\u001b[0m                     \u001b[0mrecursive_scrape\u001b[0m\u001b[0;34m(\u001b[0m\u001b[0mitem\u001b[0m\u001b[0;34m.\u001b[0m\u001b[0mcontents\u001b[0m\u001b[0;34m[\u001b[0m\u001b[0;36m0\u001b[0m\u001b[0;34m]\u001b[0m\u001b[0;34m,\u001b[0m \u001b[0mnext_url\u001b[0m\u001b[0;34m)\u001b[0m\u001b[0;34m\u001b[0m\u001b[0m\n",
      "\u001b[0;31mTypeError\u001b[0m: must be str, not Tag"
     ]
    }
   ],
   "source": [
    "# url_dict = {}\n",
    "recursive_scrape('Neurology',\n",
    "                 'https://www.uptodate.com/contents/table-of-contents/neurology/')"
   ]
  },
  {
   "cell_type": "code",
   "execution_count": 138,
   "metadata": {},
   "outputs": [
    {
     "data": {
      "text/plain": [
       "659"
      ]
     },
     "execution_count": 138,
     "metadata": {},
     "output_type": "execute_result"
    }
   ],
   "source": [
    "len(url_dict)"
   ]
  },
  {
   "cell_type": "code",
   "execution_count": 149,
   "metadata": {},
   "outputs": [
    {
     "data": {
      "text/plain": [
       "<div id=\"topicText\"><p class=\"headingAnchor\" id=\"H93365600\"><span class=\"h1\">What is allergic bronchopulmonary aspergillosis (ABPA)?</span><span class=\"headingEndMark\"> — </span>Allergic bronchopulmonary aspergillosis (called \"ABPA\" here) is an allergic reaction that can cause coughing, wheezing, and other symptoms. It usually happens in people who have asthma or cystic fibrosis. These lung conditions make it hard to breathe.</p><p>People who get ABPA are allergic to a fungus called \"aspergillus.\" This allergy is more serious than an allergy to pollen or pets. ABPA can cause scars to form inside the lungs. This can make asthma or other conditions worse.</p><p class=\"headingAnchor\" id=\"H93365615\"><span class=\"h1\">What are the symptoms of ABPA?</span><span class=\"headingEndMark\"> — </span>The symptoms include:</p><p class=\"bulletIndent1\"><span class=\"glyph\">●</span>Coughing up mucus with brown specks in it</p><p class=\"bulletIndent1\"><span class=\"glyph\">●</span>Wheezing or noisy breathing</p><p class=\"bulletIndent1\"><span class=\"glyph\">●</span>Fever</p><p class=\"bulletIndent1\"><span class=\"glyph\">●</span>Feeling sick</p><p></p><p>A few people who get ABPA cough up blood, but not everyone does.</p><p class=\"headingAnchor\" id=\"H93365630\"><span class=\"h1\">Should I see a doctor or nurse?</span><span class=\"headingEndMark\"> — </span>If you are coughing up blood, call your doctor or nurse. <strong>Call for an ambulance (in the US and Canada, dial 9-1-1)</strong> if you have a severe asthma attack and your symptoms:</p><p class=\"bulletIndent1\"><span class=\"glyph\">●</span>Get worse</p><p class=\"bulletIndent1\"><span class=\"glyph\">●</span>Do not get better after using a quick-relief medicine</p><p></p><p class=\"headingAnchor\" id=\"H93365645\"><span class=\"h1\">Will I need tests?</span><span class=\"headingEndMark\"> — </span>Yes. Your doctor or nurse will do an exam and learn about your symptoms. He or she can also order the following tests:</p><p class=\"bulletIndent1\"><span class=\"glyph\">●</span>Chest X-ray – This might show changes in the lungs caused by ABPA.</p><p></p><p class=\"bulletIndent1\"><span class=\"glyph\">●</span>CT scan of the chest – This is an imaging test that uses a special X-ray to create pictures of the inside of the body. It can show more details than a regular X-ray.</p><p></p><p class=\"bulletIndent1\"><span class=\"glyph\">●</span>Breathing tests – For these tests, you breathe hard into a tube. The tests show how well your lungs are working.</p><p></p><p class=\"bulletIndent1\"><span class=\"glyph\">●</span>Skin test – In this test, the doctor or nurse will put a tiny bit of an extract of aspergillus on your skin. Then he or she will make a tiny prick in the skin. The aspergillus is not alive, and it has been treated so it cannot make you sick. After 15 or 20 minutes, you might get a red, itchy bump like a mosquito bite. If you do, it means you are allergic to the fungus and ABPA might be causing your symptoms. If you do not get a bump, you probably do not have ABPA.</p><p></p><p class=\"bulletIndent1\"><span class=\"glyph\">●</span>Blood test – This can show if your body's infection-fighting system, called the \"immune system,\" shows signs of an allergy to aspergillus.</p><p></p><p class=\"headingAnchor\" id=\"H93365662\"><span class=\"h1\">How is ABPA treated?</span><span class=\"headingEndMark\"> — </span>ABPA is treated with medicines. These can include:</p><p class=\"bulletIndent1\"><span class=\"glyph\">●</span>Steroid medicines, such as <a class=\"drug drug_patient\" href=\"/contents/prednisone-patient-drug-information?source=see_link\">prednisone</a> (brand name: PredniSONE) – Steroids help reduce inflammation in the lungs. These are not the same steroids that athletes take to build up muscle.</p><p></p><p class=\"bulletIndent1\"><span class=\"glyph\">●</span>Medicines to kill the fungus that causes aspergillosis – These include <a class=\"drug drug_patient\" href=\"/contents/itraconazole-patient-drug-information?source=see_link\">itraconazole</a> (brand name: Sporanox) or <a class=\"drug drug_patient\" href=\"/contents/voriconazole-patient-drug-information?source=see_link\">voriconazole</a> (brand name: VFEND).</p><p></p><p class=\"bulletIndent1\"><span class=\"glyph\">●</span>Asthma medicines – Most people also need medicines to treat their asthma. There are several different types of medicine used to treat asthma. Many of them come in inhaler devices.</p><p></p><p>Your doctor or nurse will do blood tests every month or two to see if the ABPA is getting better. You might also have X-rays to check your lungs.</p><p class=\"headingAnchor\" id=\"H93365677\"><span class=\"h1\">More on this topic</span></p><p><a class=\"medical medical_basics\" href=\"/contents/asthma-in-adults-the-basics?topicRef=83427&amp;source=see_link\">Patient education: Asthma in adults (The Basics)</a><br/><a class=\"medical medical_basics\" href=\"/contents/medicines-for-asthma-the-basics?topicRef=83427&amp;source=see_link\">Patient education: Medicines for asthma (The Basics)</a><br/><a class=\"medical medical_basics\" href=\"/contents/cystic-fibrosis-the-basics?topicRef=83427&amp;source=see_link\">Patient education: Cystic fibrosis (The Basics)</a><br/><a class=\"medical medical_basics\" href=\"/contents/coughing-up-blood-the-basics?topicRef=83427&amp;source=see_link\">Patient education: Coughing up blood (The Basics)</a></p><p><a class=\"medical medical_patient\" href=\"/contents/shortness-of-breath-dyspnea-beyond-the-basics?topicRef=83427&amp;source=see_link\">Patient education: Shortness of breath (dyspnea) (Beyond the Basics)</a><br/><a class=\"medical medical_patient\" href=\"/contents/trigger-avoidance-in-asthma-beyond-the-basics?topicRef=83427&amp;source=see_link\">Patient education: Trigger avoidance in asthma (Beyond the Basics)</a></p></div>"
      ]
     },
     "execution_count": 149,
     "metadata": {},
     "output_type": "execute_result"
    }
   ],
   "source": [
    "soup = BeautifulSoup(browser.page_source, 'lxml')\n",
    "content = soup.find(\"div\", {\"id\":\"topicText\"})\n",
    "content\n",
    "# text = soup.find(\"div\", {\"id\":\"topicText\"})\n",
    "# output = text.get_text(separator=\" \", strip=True)\n",
    "# output"
   ]
  },
  {
   "cell_type": "code",
   "execution_count": 150,
   "metadata": {},
   "outputs": [],
   "source": [
    "browser.close()\n",
    "browser.quit()"
   ]
  }
 ],
 "metadata": {
  "kernelspec": {
   "display_name": "Python 3",
   "language": "python",
   "name": "python3"
  },
  "language_info": {
   "codemirror_mode": {
    "name": "ipython",
    "version": 3
   },
   "file_extension": ".py",
   "mimetype": "text/x-python",
   "name": "python",
   "nbconvert_exporter": "python",
   "pygments_lexer": "ipython3",
   "version": "3.6.2"
  }
 },
 "nbformat": 4,
 "nbformat_minor": 2
}
