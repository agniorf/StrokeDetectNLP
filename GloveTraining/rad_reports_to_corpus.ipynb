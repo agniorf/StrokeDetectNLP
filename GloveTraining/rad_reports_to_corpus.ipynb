{
 "cells": [
  {
   "cell_type": "code",
   "execution_count": 76,
   "metadata": {
    "collapsed": true
   },
   "outputs": [],
   "source": [
    "import os\n",
    "# print(os.getcwd())\n",
    "os.chdir(os.path.expanduser(\"~/Dropbox (Partners HealthCare)/MVP/RPDR/Ischemic_stroke_2003-2018/2003-2014 Ischemic Stroke Radiology Reports\"))\n",
    "\n",
    "import pandas as pd, numpy as np\n",
    "import random\n",
    "import csv\n",
    "\n",
    "df = pd.read_csv(\"Rad1_processed.csv\")\n",
    "df = df[df.Report_Status == 'Final']\n",
    "\n",
    "# Take first 100000 (roughly half)\n",
    "df = df.iloc[:100000]\n",
    "df['raddates'] = pd.to_datetime(df.Report_Date_Time)\n",
    "\n",
    "# Subset by time frame\n",
    "post2010 = df[df.raddates >= pd.to_datetime('2010-01-01')]\n",
    "# post2010.shape\n",
    "# max(post2010.raddates)\n",
    "\n",
    "# Randomly sample 10000 and write to txt\n",
    "corpusdf = post2010.sample(n=10000, random_state = 1)\n",
    "os.chdir(os.path.expanduser(\"~/Dropbox (Partners HealthCare)/MVP/RPDR/GloVe/Training Radiology and Stroke Resources/Rad2010\"))\n",
    "for i in range(10000):\n",
    "    filename = corpusdf.Report_Number.iloc[i] + '.txt'\n",
    "    text_file = open(filename, \"w\")\n",
    "    # Use everything between the provider and the report end\n",
    "    text_file.write(corpusdf.Report_Text.iloc[i].lower().split('[report_end]')[0].split('provider:')[1])\n",
    "    text_file.close()"
   ]
  }
 ],
 "metadata": {
  "kernelspec": {
   "display_name": "Python 3",
   "language": "python",
   "name": "python3"
  },
  "language_info": {
   "codemirror_mode": {
    "name": "ipython",
    "version": 3
   },
   "file_extension": ".py",
   "mimetype": "text/x-python",
   "name": "python",
   "nbconvert_exporter": "python",
   "pygments_lexer": "ipython3",
   "version": "3.6.5"
  }
 },
 "nbformat": 4,
 "nbformat_minor": 2
}
